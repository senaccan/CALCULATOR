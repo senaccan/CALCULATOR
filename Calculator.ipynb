{
 "cells": [
  {
   "cell_type": "code",
   "execution_count": 5,
   "id": "4a51ca1f-bafe-4e22-86cd-5433b15c681e",
   "metadata": {},
   "outputs": [
    {
     "name": "stdin",
     "output_type": "stream",
     "text": [
      "Enter numbers separated by commas (e.g., 5, 10, 15):  90,15\n",
      "Please select the action you want to take +,-,*,/  /\n"
     ]
    },
    {
     "name": "stdout",
     "output_type": "stream",
     "text": [
      "6.0\n"
     ]
    }
   ],
   "source": [
    "def calculation(*numbers):\n",
    "    if not numbers:\n",
    "        print(\"No numbers provided!\")\n",
    "        return\n",
    "    operation=input(\"Please select the action you want to take +,-,*,/ \")\n",
    "    result=0\n",
    "    if operation== \"+\":\n",
    "        for num in numbers:\n",
    "            result=result+num\n",
    "        print(result)\n",
    "    elif operation==\"-\":\n",
    "        result=numbers[0]\n",
    "        for num in numbers[1:]:\n",
    "           result=result-num\n",
    "        print(result)\n",
    "    elif operation==\"*\":\n",
    "        result=1\n",
    "        for num in numbers:\n",
    "            result=result*num\n",
    "        print(result)\n",
    "    elif operation==\"/\":\n",
    "        result = numbers[0]\n",
    "        for num in numbers[1:]:\n",
    "            if num == 0:\n",
    "                print(\"Error: Division by zero is not allowed!\")\n",
    "                return\n",
    "            result=result/num\n",
    "        print(result)\n",
    "    else:\n",
    "        print(\"Please enter a valid operator!!\")\n",
    "        \n",
    "if __name__ == \"__main__\":\n",
    "    newInput = input(\"Enter numbers separated by commas (e.g., 5, 10, 15): \")\n",
    "    try:\n",
    "        numbers = tuple(map(float, newInput.split(',')))\n",
    "        \n",
    "    except ValueError:\n",
    "        print(\"Invalid input! Please enter numbers separated by commas.\")\n",
    "        exit()\n",
    "\n",
    "    \n",
    "    calculation(*numbers)"
   ]
  },
  {
   "cell_type": "code",
   "execution_count": null,
   "id": "0f313f0e-76b6-4ad0-9ed8-cbcbbafeab0d",
   "metadata": {},
   "outputs": [],
   "source": []
  }
 ],
 "metadata": {
  "kernelspec": {
   "display_name": "Python 3 (ipykernel)",
   "language": "python",
   "name": "python3"
  },
  "language_info": {
   "codemirror_mode": {
    "name": "ipython",
    "version": 3
   },
   "file_extension": ".py",
   "mimetype": "text/x-python",
   "name": "python",
   "nbconvert_exporter": "python",
   "pygments_lexer": "ipython3",
   "version": "3.11.7"
  }
 },
 "nbformat": 4,
 "nbformat_minor": 5
}
